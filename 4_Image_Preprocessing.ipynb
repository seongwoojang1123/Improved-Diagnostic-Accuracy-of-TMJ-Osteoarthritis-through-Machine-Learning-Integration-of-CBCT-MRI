{
  "nbformat": 4,
  "nbformat_minor": 0,
  "metadata": {
    "colab": {
      "provenance": [],
      "authorship_tag": "ABX9TyPJtxxOF7JkZFVPB0Whea6O",
      "include_colab_link": true
    },
    "kernelspec": {
      "name": "python3",
      "display_name": "Python 3"
    },
    "language_info": {
      "name": "python"
    }
  },
  "cells": [
    {
      "cell_type": "markdown",
      "metadata": {
        "id": "view-in-github",
        "colab_type": "text"
      },
      "source": [
        "<a href=\"https://colab.research.google.com/github/seongwoojang1123/TMJ-osteoarthritis-diagnosis-/blob/main/4_Image_Preprocessing.ipynb\" target=\"_parent\"><img src=\"https://colab.research.google.com/assets/colab-badge.svg\" alt=\"Open In Colab\"/></a>"
      ]
    },
    {
      "cell_type": "code",
      "execution_count": null,
      "metadata": {
        "id": "7UmXtLDmzF5h"
      },
      "outputs": [],
      "source": [
        "import cv2\n",
        "import os\n",
        "import shutil\n",
        "import pandas as pd\n",
        "import random\n",
        "from PIL import Image\n",
        "import matplotlib.pyplot as plt\n",
        "from sklearn.model_selection import train_test_split"
      ]
    },
    {
      "cell_type": "markdown",
      "source": [
        "Image Masking"
      ],
      "metadata": {
        "id": "7WcNygQy1Mj9"
      }
    },
    {
      "cell_type": "code",
      "source": [
        "# 원본 및 출력 디렉토리 설정\n",
        "source_dir = r'C:/TMJ OA/source_data'\n",
        "output_base_dir = r'C:/TMJ OA/masked_data'\n",
        "\n",
        "# 텍스트 영역 마스킹 함수\n",
        "def remove_text_only(image):\n",
        "    masked_image = image.copy()\n",
        "    masked_image[0:20, :] = 0  # 상단 10~30 픽셀 범위 마스킹\n",
        "    height = masked_image.shape[0]\n",
        "    masked_image[height - 20:height - 0, :] = 0  # 하단 30~10 픽셀 범위 마스킹\n",
        "    masked_image[:, 0:95] = 0  # 좌측 0~90 픽셀 범위 마스킹\n",
        "    width = masked_image.shape[1]\n",
        "    masked_image[:, width - 95:] = 0  # 우측 90 픽셀 범위 마스킹\n",
        "    return masked_image\n",
        "\n",
        "# 이미지 전처리 및 저장 함수\n",
        "def process_images_in_directory(input_dir, output_base_dir):\n",
        "    for root, dirs, files in os.walk(input_dir):\n",
        "        relative_path = os.path.relpath(root, input_dir)\n",
        "        output_dir = os.path.join(output_base_dir, relative_path)\n",
        "\n",
        "        if not os.path.exists(output_dir):\n",
        "            os.makedirs(output_dir)\n",
        "        print(f\"Processing directory: {output_dir}\")\n",
        "\n",
        "        for filename in files:\n",
        "            # 확장자 조건 제거 (모든 파일을 시도)\n",
        "            image_path = os.path.join(root, filename)\n",
        "            image = cv2.imread(image_path)\n",
        "\n",
        "            if image is not None:\n",
        "                # 텍스트 영역 제거\n",
        "                masked_image = remove_text_only(image)\n",
        "                output_path = os.path.join(output_dir, filename)\n",
        "                success = cv2.imwrite(output_path, masked_image)\n",
        "\n",
        "                if success:\n",
        "                    print(f\"Image successfully saved to {output_path}\")\n",
        "                else:\n",
        "                    print(f\"Failed to save image at: {output_path}\")\n",
        "            else:\n",
        "                print(f\"Failed to load image {image_path} - It might not be a valid image file.\")\n",
        "\n",
        "# 전체 이미지 전처리 수행\n",
        "process_images_in_directory(source_dir, output_base_dir)"
      ],
      "metadata": {
        "id": "jBiKoXVJ1KNL"
      },
      "execution_count": null,
      "outputs": []
    },
    {
      "cell_type": "markdown",
      "source": [
        "Image Cropping"
      ],
      "metadata": {
        "id": "KPENLrk6zwHB"
      }
    },
    {
      "cell_type": "code",
      "source": [
        "# 이미지 로드\n",
        "image_path = 'C:/TMJ OA/masked_data/20703917 1.JPG'\n",
        "img = Image.open(image_path)\n",
        "\n",
        "# 크롭 영역 정의 (좌표: (left, upper, right, lower))\n",
        "crop_box = (110, 45, 265, 250)\n",
        "\n",
        "# 크롭 수행\n",
        "cropped_img = img.crop(crop_box)\n",
        "\n",
        "# 크롭된 이미지 시각화\n",
        "plt.imshow(cropped_img)\n",
        "plt.title(\"Cropped Image\")\n",
        "plt.axis(\"off\")\n",
        "plt.show()"
      ],
      "metadata": {
        "id": "KVsC7lBZztCB"
      },
      "execution_count": null,
      "outputs": []
    },
    {
      "cell_type": "markdown",
      "source": [
        "Cropping Image Save"
      ],
      "metadata": {
        "id": "ZnEb0GfI0B2c"
      }
    },
    {
      "cell_type": "code",
      "source": [
        "# 폴더 경로 설정\n",
        "input_folder = 'C:/TMJ OA/masked_data'  # 원본 이미지 폴더\n",
        "output_folder = 'C:/TMJ OA/masked_2_data' # 결과 저장 폴더\n",
        "\n",
        "# 크롭 영역 정의 (모든 이미지에 동일한 영역 적용)\n",
        "crop_box = (110, 45, 265, 250)\n",
        "\n",
        "# 출력 폴더 생성\n",
        "os.makedirs(output_folder, exist_ok=True)\n",
        "\n",
        "# 이미지 일괄 처리\n",
        "for filename in os.listdir(input_folder):\n",
        "    if filename.lower().endswith((\".jpg\", \".jpeg\", \".png\")):  # 이미지 파일 필터링\n",
        "        # 이미지 로드\n",
        "        image_path = os.path.join(input_folder, filename)\n",
        "        img = Image.open(image_path)\n",
        "\n",
        "        # 크롭 수행\n",
        "        cropped_img = img.crop(crop_box)\n",
        "\n",
        "        # 크롭된 이미지 저장\n",
        "        output_path = os.path.join(output_folder, filename)\n",
        "        cropped_img.save(output_path)\n",
        "\n",
        "print(f\"All images cropped and saved to {output_folder}\")"
      ],
      "metadata": {
        "id": "iD0Tj7iPz63w"
      },
      "execution_count": null,
      "outputs": []
    },
    {
      "cell_type": "markdown",
      "source": [
        "Image Classification"
      ],
      "metadata": {
        "id": "KEL5pb-B0IT_"
      }
    },
    {
      "cell_type": "code",
      "source": [
        "# Excel 파일 경로 및 이미지 경로 설정\n",
        "excel_path = 'C:/Users/mook6/Downloads/20240819 CBCT MRI 데이터 정리_수정1.xlsx'\n",
        "source_dir = 'C:/TMJ OA/masked_data'\n",
        "train_dir = 'C:/TMJ OA/train_data'\n",
        "validation_dir = 'C:/TMJ OA/validation_data'\n",
        "test_dir = 'C:/TMJ OA/test_data'\n",
        "\n",
        "# Excel 파일 로드 및 OA 상태를 딕셔너리로 저장 (ID별로 분류)\n",
        "oa_data = pd.read_excel(excel_path)\n",
        "oa_dict = {row['Patient ID']: (row['CBCT_Rt OA (Osteoarthritis) (0=normal, 1=OA)'],\n",
        "                               row['CBCT_Lt OA  (Osteoarthritis) (0=normal, 1=OA)'])\n",
        "           for _, row in oa_data.iterrows()}\n",
        "\n",
        "# 이미지 필터링 (우측: 1.JPG, 좌측: 3.JPG 이미지만 선택)\n",
        "all_files = [f for f in os.listdir(source_dir) if f.endswith('1.JPG') or f.endswith('3.JPG')]\n",
        "\n",
        "# 레이블에 따른 분류\n",
        "rt_oa_files = [f for f in all_files if f.endswith('1.JPG') and oa_dict.get(int(f.split(' ')[0]), (0, 0))[0] == 1]\n",
        "rt_normal_files = [f for f in all_files if f.endswith('1.JPG') and oa_dict.get(int(f.split(' ')[0]), (0, 0))[0] == 0]\n",
        "lt_oa_files = [f for f in all_files if f.endswith('3.JPG') and oa_dict.get(int(f.split(' ')[0]), (0, 0))[1] == 1]\n",
        "lt_normal_files = [f for f in all_files if f.endswith('3.JPG') and oa_dict.get(int(f.split(' ')[0]), (0, 0))[1] == 0]\n",
        "\n",
        "\n",
        "# 함수: 각 레이블 비율에 맞춰 데이터를 분할\n",
        "def split_data(files, train_ratio=0.6, val_ratio=0.2):\n",
        "    train_files, temp_files = train_test_split(files, train_size=train_ratio, random_state=42)\n",
        "    val_files, test_files = train_test_split(temp_files, test_size=val_ratio / (1 - train_ratio), random_state=42)\n",
        "    return train_files, val_files, test_files\n",
        "\n",
        "\n",
        "# 각 레이블에 따라 분할\n",
        "train_rt_oa, val_rt_oa, test_rt_oa = split_data(rt_oa_files)\n",
        "train_rt_normal, val_rt_normal, test_rt_normal = split_data(rt_normal_files)\n",
        "train_lt_oa, val_lt_oa, test_lt_oa = split_data(lt_oa_files)\n",
        "train_lt_normal, val_lt_normal, test_lt_normal = split_data(lt_normal_files)\n",
        "\n",
        "# 분할된 파일들을 합치기\n",
        "train_files = train_rt_oa + train_rt_normal + train_lt_oa + train_lt_normal\n",
        "validation_files = val_rt_oa + val_rt_normal + val_lt_oa + val_lt_normal\n",
        "test_files = test_rt_oa + test_rt_normal + test_lt_oa + test_lt_normal\n",
        "\n",
        "# 학습, 검증, 테스트 폴더 생성\n",
        "for label_type in ['Rt_Normal', 'Lt_Normal', 'Rt_OA', 'Lt_OA']:\n",
        "    os.makedirs(os.path.join(train_dir, label_type), exist_ok=True)\n",
        "    os.makedirs(os.path.join(validation_dir, label_type), exist_ok=True)\n",
        "    os.makedirs(os.path.join(test_dir, label_type), exist_ok=True)\n",
        "\n",
        "\n",
        "# 파일 복사 함수\n",
        "def copy_files(file_list, target_dir, oa_dict):\n",
        "    for filename in file_list:\n",
        "        file_path = os.path.join(source_dir, filename)\n",
        "        img_id = int(filename.split(' ')[0])  # ID가 첫 부분에 있다고 가정\n",
        "\n",
        "        # 우측/좌측 및 OA 상태에 따른 폴더 설정\n",
        "        if filename.endswith('1.JPG'):  # 우측\n",
        "            oa_status = oa_dict.get(img_id, (0, 0))[0]  # 우측 OA 상태\n",
        "            label = 'Rt_OA' if oa_status == 1 else 'Rt_Normal'\n",
        "        elif filename.endswith('3.JPG'):  # 좌측\n",
        "            oa_status = oa_dict.get(img_id, (0, 0))[1]  # 좌측 OA 상태\n",
        "            label = 'Lt_OA' if oa_status == 1 else 'Lt_Normal'\n",
        "\n",
        "        # 파일 복사\n",
        "        target_label_dir = os.path.join(target_dir, label)\n",
        "        shutil.copy(file_path, os.path.join(target_label_dir, filename))\n",
        "\n",
        "\n",
        "# 파일 복사 수행\n",
        "copy_files(train_files, train_dir, oa_dict)\n",
        "copy_files(validation_files, validation_dir, oa_dict)\n",
        "copy_files(test_files, test_dir, oa_dict)\n",
        "\n",
        "# 결과 출력\n",
        "print(f\"학습 데이터로 복사된 파일 수: {len(train_files)}\")\n",
        "print(f\"검증 데이터로 복사된 파일 수: {len(validation_files)}\")\n",
        "print(f\"테스트 데이터로 복사된 파일 수: {len(test_files)}\")"
      ],
      "metadata": {
        "id": "jE_3xGA40Hqd"
      },
      "execution_count": null,
      "outputs": []
    },
    {
      "cell_type": "markdown",
      "source": [
        "Image Checking"
      ],
      "metadata": {
        "id": "ouJ-l0Lq1iag"
      }
    },
    {
      "cell_type": "code",
      "source": [
        "# Excel 파일 경로 및 이미지 폴더 경로 설정\n",
        "excel_path = 'C:/Users/mook6/Downloads/20240819 CBCT MRI 데이터 정리_수정1.xlsx'\n",
        "base_dir = 'C:/TMJ OA/'\n",
        "train_dir = os.path.join(base_dir, 'train_data')\n",
        "validation_dir = os.path.join(base_dir, 'validation_data')\n",
        "test_dir = os.path.join(base_dir, 'test_data')\n",
        "\n",
        "# Excel 파일 로드 및 불필요한 텍스트와 NaN 제거\n",
        "oa_data = pd.read_excel(excel_path, usecols=['Patient ID', 'NAME', 'CBCT_Rt OA (Osteoarthritis) (0=normal, 1=OA)', 'CBCT_Lt OA  (Osteoarthritis) (0=normal, 1=OA)'])\n",
        "\n",
        "# Patient ID와 Name 모두에 대해 NaN 값이 없는 유효한 데이터만 필터링\n",
        "oa_data = oa_data.dropna(subset=['Patient ID', 'NAME'])  # NaN 값 제거\n",
        "oa_data = oa_data[pd.to_numeric(oa_data['Patient ID'], errors='coerce').notna()]  # Patient ID가 숫자인 행만 남김\n",
        "oa_data['Patient ID'] = oa_data['Patient ID'].astype(str)  # 문자열로 변환하여 일관성 유지\n",
        "\n",
        "# Patient ID와 Name 정보 딕셔너리 생성\n",
        "oa_info = {row['Patient ID']: row for _, row in oa_data.iterrows()}\n",
        "excel_patient_ids = set(oa_info.keys())\n",
        "\n",
        "# 이미지 폴더에서 모든 Patient ID 추출\n",
        "all_image_patient_ids = set()\n",
        "for folder in [train_dir, validation_dir, test_dir]:\n",
        "    if os.path.exists(folder):\n",
        "        for label_type in os.listdir(folder):\n",
        "            label_path = os.path.join(folder, label_type)\n",
        "            if os.path.isdir(label_path):\n",
        "                all_image_patient_ids.update(file.split(' ')[0] for file in os.listdir(label_path))\n",
        "\n",
        "# Excel에 있지만 이미지 폴더에 없는 Patient ID와 NAME 정보\n",
        "missing_in_images = excel_patient_ids - all_image_patient_ids\n",
        "missing_in_images_info = {pid: oa_info[pid]['NAME'] for pid in missing_in_images}\n",
        "\n",
        "# 이미지 폴더에 있지만 Excel에 없는 Patient ID\n",
        "missing_in_excel = all_image_patient_ids - excel_patient_ids\n",
        "missing_in_excel_count = len(missing_in_excel)\n",
        "\n",
        "# 결과 출력\n",
        "print(f\"Excel에는 있지만 이미지 폴더에 없는 Patient ID 개수: {len(missing_in_images)}\")\n",
        "print(\"Excel에는 있지만 이미지 폴더에 없는 Patient ID와 NAME 정보:\", missing_in_images_info)\n",
        "\n",
        "print(f\"\\n이미지 폴더에는 있지만 Excel에 없는 Patient ID 개수: {missing_in_excel_count}\")\n",
        "print(\"이미지 폴더에는 있지만 Excel에 없는 Patient ID:\", missing_in_excel)"
      ],
      "metadata": {
        "id": "qkhmTEuF1f4k"
      },
      "execution_count": null,
      "outputs": []
    }
  ]
}